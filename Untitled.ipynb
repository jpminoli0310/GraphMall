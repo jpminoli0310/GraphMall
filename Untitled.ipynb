{
 "cells": [
  {
   "cell_type": "code",
   "execution_count": 90,
   "metadata": {},
   "outputs": [
    {
     "name": "stdout",
     "output_type": "stream",
     "text": [
      "5\n",
      "[ 0.     0.375]\n"
     ]
    },
    {
     "data": {
      "image/png": "[encoded data removed]",
      "text/plain": [
       "<matplotlib.figure.Figure at 0x7f59b4b60510>"
      ]
     },
     "metadata": {},
     "output_type": "display_data"
    }
   ],
   "source": [
    "import matplotlib.pyplot as plt\n",
    "import numpy as np\n",
    "\n",
    "x=np.linspace(0,0.5,5)\n",
    "y=np.linspace(0,0.5,5)\n",
    "u=np.linspace(0.1,0.5,5)\n",
    "v=np.linspace(0.1,0.5,5)\n",
    "print x.size\n",
    "print x[0:x.size:3]\n",
    "plt.quiver(x[0:x.size:1], y[0:x.size:1], u[0:x.size:1], v[0:x.size:1],width=0.005,scale=10,headwidth=2,headlength=2)\n",
    "#plt.streamplot(x, y, U, V, linewidth=0.8, color='k')\n",
    "plt.show()"
   ]
  }
 ],
 "metadata": {
  "kernelspec": {
   "display_name": "Python 2",
   "language": "python",
   "name": "python2"
  },
  "language_info": {
   "codemirror_mode": {
    "name": "ipython",
    "version": 2
   },
   "file_extension": ".py",
   "mimetype": "text/x-python",
   "name": "python",
   "nbconvert_exporter": "python",
   "pygments_lexer": "ipython2",
   "version": "2.7.12"
  }
 },
 "nbformat": 4,
 "nbformat_minor": 2
}
